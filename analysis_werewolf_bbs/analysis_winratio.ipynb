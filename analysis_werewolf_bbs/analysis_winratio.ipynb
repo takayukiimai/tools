{
 "cells": [
  {
   "cell_type": "markdown",
   "metadata": {},
   "source": [
    "## 勝率とかを分析してみる\n",
    "99試合分の勝率を見てみる"
   ]
  },
  {
   "cell_type": "code",
   "execution_count": 1,
   "metadata": {
    "collapsed": true
   },
   "outputs": [],
   "source": [
    "import pandas "
   ]
  },
  {
   "cell_type": "code",
   "execution_count": 12,
   "metadata": {
    "collapsed": false
   },
   "outputs": [
    {
     "name": "stdout",
     "output_type": "stream",
     "text": [
      "0.47474747474747475\n"
     ]
    }
   ],
   "source": [
    "dir_data = \"./bbsdata/\"\n",
    "dir_role = \"./bbsrole/\"\n",
    "\n",
    "count = 0\n",
    "for i in range(1,100):\n",
    "    tmp_role_df = pandas.read_csv(dir_role+str(i)+\".csv\", index_col=0)\n",
    "    wolf = len(tmp_role_df[ (tmp_role_df[\"role\"] == \"人狼\") & (tmp_role_df[\"dead\"] == 0) ])\n",
    "    vill = len(tmp_role_df[ (tmp_role_df[\"role\"] != \"人狼\") & (tmp_role_df[\"dead\"] == 0) ])\n",
    "    if wolf < vill:\n",
    "        count += 1\n",
    "\n",
    "print(count/99)"
   ]
  },
  {
   "cell_type": "markdown",
   "metadata": {},
   "source": [
    "人狼で生きている者のカウント"
   ]
  },
  {
   "cell_type": "code",
   "execution_count": 7,
   "metadata": {
    "collapsed": false,
    "scrolled": true
   },
   "outputs": [
    {
     "data": {
      "text/plain": [
       "0"
      ]
     },
     "execution_count": 7,
     "metadata": {},
     "output_type": "execute_result"
    }
   ],
   "source": [
    "len(tmp_role_df[ (tmp_role_df[\"role\"] == \"人狼\") & (tmp_role_df[\"dead\"] == 0) ])"
   ]
  },
  {
   "cell_type": "markdown",
   "metadata": {},
   "source": [
    "村人陣営の生きている者カウント"
   ]
  },
  {
   "cell_type": "code",
   "execution_count": 8,
   "metadata": {
    "collapsed": false
   },
   "outputs": [
    {
     "data": {
      "text/plain": [
       "9"
      ]
     },
     "execution_count": 8,
     "metadata": {},
     "output_type": "execute_result"
    }
   ],
   "source": [
    "len(tmp_role_df[ (tmp_role_df[\"role\"] != \"人狼\") & (tmp_role_df[\"dead\"] == 0) ])"
   ]
  },
  {
   "cell_type": "code",
   "execution_count": null,
   "metadata": {
    "collapsed": true
   },
   "outputs": [],
   "source": []
  }
 ],
 "metadata": {
  "kernelspec": {
   "display_name": "Python 3",
   "language": "python",
   "name": "python3"
  },
  "language_info": {
   "codemirror_mode": {
    "name": "ipython",
    "version": 3
   },
   "file_extension": ".py",
   "mimetype": "text/x-python",
   "name": "python",
   "nbconvert_exporter": "python",
   "pygments_lexer": "ipython3",
   "version": "3.6.0"
  }
 },
 "nbformat": 4,
 "nbformat_minor": 2
}

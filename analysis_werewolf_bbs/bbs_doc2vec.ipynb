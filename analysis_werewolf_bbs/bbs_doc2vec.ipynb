{
 "cells": [
  {
   "cell_type": "markdown",
   "metadata": {},
   "source": [
    "# 人狼BBSの発言から人狼推測モデルを学習してみる\n",
    "## BBSログにdoc2vecを試す\n",
    "ログを取得したのでそれらに対してやってみる"
   ]
  },
  {
   "cell_type": "code",
   "execution_count": 1,
   "metadata": {
    "collapsed": true
   },
   "outputs": [],
   "source": [
    "import MeCab\n",
    "import pandas\n",
    "import gensim"
   ]
  },
  {
   "cell_type": "markdown",
   "metadata": {},
   "source": [
    "#### パース用の関数\n",
    "MeCabを使って一つの対戦ログを一文ずつ形態素に分け，docに追加して返す"
   ]
  },
  {
   "cell_type": "code",
   "execution_count": 19,
   "metadata": {
    "collapsed": true
   },
   "outputs": [],
   "source": [
    "def parse(df_days):\n",
    "    mecab = MeCab.Tagger(\"-d /usr/local/lib/mecab/dic/mecab-ipadic-neologd\")\n",
    "    mecab.parse('')\n",
    "    doc = []\n",
    "    for text in df_days[\"content\"]:\n",
    "        sentence = []\n",
    "        tmp_text = str(text)\n",
    "        node = mecab.parseToNode(tmp_text)\n",
    "        while node:\n",
    "            nodef = node.feature.split(',')\n",
    "            sentence.append(node.surface)\n",
    "            node = node.next\n",
    "        doc.append(sentence)\n",
    "    return doc"
   ]
  },
  {
   "cell_type": "markdown",
   "metadata": {},
   "source": [
    "#### doc2vecで使用できるようにする\n",
    "lineにwords=['単語A','単語B', ...]のように入っていて，[i]がidとなる"
   ]
  },
  {
   "cell_type": "code",
   "execution_count": 3,
   "metadata": {
    "collapsed": true
   },
   "outputs": [],
   "source": [
    "def read_corpus(doc):\n",
    "    for i, line in enumerate(doc):\n",
    "        yield gensim.models.doc2vec.TaggedDocument(line, [i])"
   ]
  },
  {
   "cell_type": "markdown",
   "metadata": {},
   "source": [
    "#### doc2vecによる学習\n",
    "データを突っ込んでいく"
   ]
  },
  {
   "cell_type": "code",
   "execution_count": 20,
   "metadata": {
    "collapsed": false
   },
   "outputs": [],
   "source": [
    "dirs = \"./bbsdata/\"\n",
    "df_vills = pandas.read_csv(dirs + str(1) + \".csv\",index_col=0)\n",
    "for i in range(2,100):\n",
    "    df_vill = pandas.read_csv(dirs + str(i) + \".csv\",index_col=0)\n",
    "    df_vills = df_vills.append(df_vill)\n",
    "doc = parse(df_vills)\n",
    "train_corpus = list(read_corpus(doc))"
   ]
  },
  {
   "cell_type": "code",
   "execution_count": 21,
   "metadata": {
    "collapsed": true
   },
   "outputs": [],
   "source": [
    "model = gensim.models.doc2vec.Doc2Vec(size=400, min_count=10, iter=55)\n",
    "model.build_vocab(train_corpus)\n",
    "model.train(train_corpus, total_examples=model.corpus_count, epochs=model.iter)\n",
    "model.save(\"test100model.model\")"
   ]
  },
  {
   "cell_type": "markdown",
   "metadata": {},
   "source": [
    "### 類似単語を調べる"
   ]
  },
  {
   "cell_type": "code",
   "execution_count": 27,
   "metadata": {
    "collapsed": false
   },
   "outputs": [
    {
     "data": {
      "text/plain": [
       "[('リザ', 0.8302386999130249),\n",
       " ('クララ', 0.7315598130226135),\n",
       " ('リナ', 0.7189242839813232),\n",
       " ('リズ', 0.7124338150024414),\n",
       " ('リデル', 0.70890212059021),\n",
       " ('アルビン', 0.695146918296814),\n",
       " ('エルナ', 0.6939751505851746),\n",
       " ('パメラ', 0.6938230991363525),\n",
       " ('パメ', 0.6925375461578369),\n",
       " ('カタリナ', 0.6751901507377625)]"
      ]
     },
     "execution_count": 27,
     "metadata": {},
     "output_type": "execute_result"
    }
   ],
   "source": [
    "model.most_similar(\"リーザ\")"
   ]
  },
  {
   "cell_type": "markdown",
   "metadata": {},
   "source": [
    "### 類似文を調べる"
   ]
  },
  {
   "cell_type": "code",
   "execution_count": 33,
   "metadata": {
    "collapsed": false
   },
   "outputs": [
    {
     "data": {
      "text/plain": [
       "[(49283, 0.3972127437591553),\n",
       " (100519, 0.3952615261077881),\n",
       " (91717, 0.3946514129638672),\n",
       " (54051, 0.3885599970817566),\n",
       " (12758, 0.3876497745513916),\n",
       " (109888, 0.38557785749435425),\n",
       " (103625, 0.38408008217811584),\n",
       " (93119, 0.38372841477394104),\n",
       " (18747, 0.38095909357070923),\n",
       " (55014, 0.3807477653026581)]"
      ]
     },
     "execution_count": 33,
     "metadata": {},
     "output_type": "execute_result"
    }
   ],
   "source": [
    "model.docvecs.most_similar([458])"
   ]
  },
  {
   "cell_type": "code",
   "execution_count": 31,
   "metadata": {
    "collapsed": false
   },
   "outputs": [
    {
     "name": "stdout",
     "output_type": "stream",
     "text": [
      "昨夜の乗り遅れ感でログ読んでも屋がいう商単品の白っぽさがよくわからなかったり。なんか●商希望から年や農の言動とか探っていこうかと思ってたけどどうもよくわからない。妙に対する反応は者>>506で屋に対するレスポンスが絶妙。今日の妙を見て年はどう感じたかちょっと気になってきた。と思ったら>>515>>516確認中。\n",
      "\n",
      "\n",
      "人│兵羊農屋老年娘│者旅神商修　　今のところ●│農農＿農娘娘屋│＿＿＿＿＿　　こんな感じか○│屋屋＿老農＿老│＿＿＿＿＿▼│年神神年神神年│＿＿＿＿＿▽│神年＿娘年＿神│＿＿＿＿＿\n"
     ]
    }
   ],
   "source": [
    "print(''.join(train_corpus[458][0]))\n",
    "print('\\n')\n",
    "print(''.join(train_corpus[95885][0]))"
   ]
  },
  {
   "cell_type": "code",
   "execution_count": null,
   "metadata": {
    "collapsed": true
   },
   "outputs": [],
   "source": []
  }
 ],
 "metadata": {
  "kernelspec": {
   "display_name": "Python 3",
   "language": "python",
   "name": "python3"
  },
  "language_info": {
   "codemirror_mode": {
    "name": "ipython",
    "version": 3
   },
   "file_extension": ".py",
   "mimetype": "text/x-python",
   "name": "python",
   "nbconvert_exporter": "python",
   "pygments_lexer": "ipython3",
   "version": "3.6.0"
  }
 },
 "nbformat": 4,
 "nbformat_minor": 2
}
